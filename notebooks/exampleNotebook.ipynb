{
 "cells": [
  {
   "cell_type": "code",
   "execution_count": 0,
   "metadata": {
    "application/vnd.databricks.v1+cell": {
     "cellMetadata": {
      "byteLimit": 2048000,
      "rowLimit": 10000
     },
     "inputWidgets": {},
     "nuid": "8260ce5b-62ea-4728-b9f4-8202609e3105",
     "showTitle": true,
     "tableResultSettingsMap": {},
     "title": "Restart Python and create Spark session"
    }
   },
   "outputs": [],
   "source": [
    "%%capture\n",
    "%restart_python\n",
    "\n",
    "if spark is None:\n",
    "    spark = SparkSession.builder.getOrCreate()\n",
    "spark.conf.set(\"spark.sql.execution.arrow.pyspark.enabled\", \"false\")"
   ]
  },
  {
   "cell_type": "code",
   "execution_count": 0,
   "metadata": {
    "application/vnd.databricks.v1+cell": {
     "cellMetadata": {
      "byteLimit": 2048000,
      "rowLimit": 10000
     },
     "inputWidgets": {},
     "nuid": "797b3030-b1cf-4bce-92d4-71030e63377e",
     "showTitle": true,
     "tableResultSettingsMap": {},
     "title": "Install packages from Github"
    }
   },
   "outputs": [],
   "source": [
    "%pip install git+https://github.com/OdyOSG/pubMedSearch.git\n",
    "%pip install git+https://github.com/OdyOSG/llmInvocation.git"
   ]
  },
  {
   "cell_type": "code",
   "execution_count": 0,
   "metadata": {
    "application/vnd.databricks.v1+cell": {
     "cellMetadata": {
      "byteLimit": 2048000,
      "rowLimit": 10000
     },
     "inputWidgets": {},
     "nuid": "dd3aa536-fdc1-4075-9d0e-75e5e77d4904",
     "showTitle": true,
     "tableResultSettingsMap": {},
     "title": "Import packages"
    }
   },
   "outputs": [],
   "source": [
    "import epamPubMedSearch.pubmed as pmed\n",
    "import llmInvocation.invoke as invoke"
   ]
  },
  {
   "cell_type": "code",
   "execution_count": 0,
   "metadata": {
    "application/vnd.databricks.v1+cell": {
     "cellMetadata": {
      "byteLimit": 2048000,
      "rowLimit": 10000
     },
     "inputWidgets": {},
     "nuid": "2aec6437-5dca-4d41-a4a9-46cec24269d3",
     "showTitle": true,
     "tableResultSettingsMap": {},
     "title": "Set execution variables and retrieve PubMed articles"
    }
   },
   "outputs": [],
   "source": [
    "import pandas as pd\n",
    "\n",
    "# Set execution variables\n",
    "pm_key = \"\"                             # Key for PubMed search\n",
    "dial_key = \"\"                           # Key for LLM invocation\n",
    "rwd_terms = pmed.pubmedSearchTerms()    # RWD terms from package\n",
    "date_filter =                           # Date filter for PubMed search (should be an integer)\n",
    "date_term = '(\"' + str(date_filter) + '\"[Publication Date] : \"3000\"[Publication Date])'  # Date term for PubMed search\n",
    "\n",
    "# Run PubMed search\n",
    "pubMedSearchDf_1 = pmed.run_pubmed_search(\n",
    "                        mesh_term = \"\",         # Name of Mesh term e.g. smoking\n",
    "                        rwd_terms = rwd_terms, \n",
    "                        date_term =date_term, \n",
    "                        pm_key =pm_key, \n",
    "                        saved_file_name=\"\",     # Name of SQL table to save results\n",
    "                        return_max=1,           # Maximum number of PubMed articles to process\n",
    "                        spark=spark\n",
    "                    )\n",
    "\n",
    "# Display output data frame for review\n",
    "display(pubMedSearchDf_1)"
   ]
  },
  {
   "cell_type": "code",
   "execution_count": 0,
   "metadata": {
    "application/vnd.databricks.v1+cell": {
     "cellMetadata": {
      "byteLimit": 2048000,
      "rowLimit": 10000
     },
     "inputWidgets": {},
     "nuid": "8064b88c-ac73-4eac-a147-3c80b71348ec",
     "showTitle": true,
     "tableResultSettingsMap": {},
     "title": "Export data frame to Excel"
    }
   },
   "outputs": [],
   "source": [
    "pmed.export_df_to_excel(\n",
    "    df = pubMedSearchDf_1,                      # Name of data frame to export from\n",
    "    output_filename=\"pubMedSearchDf_1.xlsx\",    # Name of file to export results to\n",
    "    displayHTML=displayHTML,\n",
    "    download_link=True\n",
    ")"
   ]
  },
  {
   "cell_type": "code",
   "execution_count": 0,
   "metadata": {
    "application/vnd.databricks.v1+cell": {
     "cellMetadata": {
      "byteLimit": 2048000,
      "rowLimit": 10000
     },
     "inputWidgets": {},
     "nuid": "3bfc7f96-e100-42c1-8b1c-75f56a7c0602",
     "showTitle": true,
     "tableResultSettingsMap": {},
     "title": "Process PubMed articles with LLMs"
    }
   },
   "outputs": [],
   "source": [
    "# Run LLM invocation\n",
    "llm_output = invoke.process_df_with_llms(\n",
    "    df=pubMedSearchDf_1,                # Name of data frame to process\n",
    "    llm_dict=invoke.getLLMmodel(        # Get LLM model from package (two options; claude and gpt-4o-full)\n",
    "        dial_key=dial_key\n",
    "    ),\n",
    "    input_prompt=invoke.inputPrompt(),  # Prompt template for LLM invocation from package\n",
    "    text_col=\"methods\",                 # Name of data frame column to process\n",
    "    saved_table_name=\"\"                 # Name of SQL table to save results\n",
    ")\n",
    "\n",
    "# Display results for review\n",
    "llm_output"
   ]
  }
 ],
 "metadata": {
  "application/vnd.databricks.v1+notebook": {
   "computePreferences": {
    "hardware": {
     "accelerator": null,
     "gpuPoolId": null,
     "memory": null
    }
   },
   "dashboards": [],
   "environmentMetadata": {
    "base_environment": "",
    "environment_version": "2"
   },
   "inputWidgetPreferences": null,
   "language": "python",
   "notebookMetadata": {
    "mostRecentlyExecutedCommandWithImplicitDF": {
     "commandId": -1,
     "dataframes": [
      "_sqldf"
     ]
    },
    "pythonIndentUnit": 4
   },
   "notebookName": "Test - PubMed Search + LLM Invocation (example)",
   "widgets": {}
  },
  "language_info": {
   "name": "python"
  }
 },
 "nbformat": 4,
 "nbformat_minor": 0
}